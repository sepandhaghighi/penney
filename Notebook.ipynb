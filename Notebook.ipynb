{
 "cells": [
  {
   "cell_type": "markdown",
   "metadata": {},
   "source": [
    "## Penney's Game "
   ]
  },
  {
   "cell_type": "code",
   "execution_count": 1,
   "metadata": {},
   "outputs": [],
   "source": [
    "from penney.functions import menu"
   ]
  },
  {
   "cell_type": "code",
   "execution_count": 2,
   "metadata": {},
   "outputs": [
    {
     "name": "stdout",
     "output_type": "stream",
     "text": [
      " __  __  _____  _   _  _   _      \n",
      "|  \\/  || ____|| \\ | || | | |  _  \n",
      "| |\\/| ||  _|  |  \\| || | | | (_) \n",
      "| |  | || |___ | |\\  || |_| |  _  \n",
      "|_|  |_||_____||_| \\_| \\___/  (_) \n",
      "                                  \n",
      "\n",
      "- Play with computer [1]\n",
      "- Play with other players [any other key]\n",
      "Please select : 1\n",
      "###########\n",
      "- Fast simulation [1]\n",
      "- Step by step [any other key]\n",
      "Please select : 1\n",
      "###########\n",
      "Please enter number of rounds : 3\n",
      "Please enter sequence length : 3\n",
      "Please enter player-1 name : Sepand\n",
      "[Sepand] Please enter your sequence : HHT\n",
      "Computer sequence : THT\n",
      "###########\n",
      "Wining Probability : \n",
      "Sepand       62.500%\n",
      "Computer     37.500%\n",
      "Winner should be Sepand\n",
      "###########\n",
      "Scores Table : \n",
      "Sepand       2   HHT\n",
      "Computer     1   THT\n",
      "Winner : Sepand\n"
     ]
    }
   ],
   "source": [
    "menu()"
   ]
  }
 ],
 "metadata": {
  "kernelspec": {
   "display_name": "Python 3",
   "language": "python",
   "name": "python3"
  },
  "language_info": {
   "codemirror_mode": {
    "name": "ipython",
    "version": 3
   },
   "file_extension": ".py",
   "mimetype": "text/x-python",
   "name": "python",
   "nbconvert_exporter": "python",
   "pygments_lexer": "ipython3",
   "version": "3.5.2"
  }
 },
 "nbformat": 4,
 "nbformat_minor": 2
}
